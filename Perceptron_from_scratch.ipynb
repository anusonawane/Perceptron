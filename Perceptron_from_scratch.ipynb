{
 "cells": [
  {
   "cell_type": "code",
   "execution_count": 1,
   "id": "3ec42944-2c5a-4e2b-88f7-8a29b3f1c822",
   "metadata": {},
   "outputs": [],
   "source": [
    "import os\n",
    "import matplotlib.pyplot as plt\n",
    "import joblib\n",
    "import numpy as np\n",
    "import pandas as pd"
   ]
  },
  {
   "cell_type": "code",
   "execution_count": 2,
   "id": "2f8cc70b-453c-4a96-94d2-58f12879747b",
   "metadata": {},
   "outputs": [],
   "source": [
    "class Perceptron:\n",
    "    def __init__(self, eta: float=None, epochs: int=None):\n",
    "        self.weights = np.random.randn(3) * 1e-4\n",
    "        self.eta = eta # learning rate\n",
    "        self.epochs = epochs # iterations\n",
    "\n",
    "    def _z_outcomes(self, inputs, weights):\n",
    "        return np.dot(inputs, weights)\n",
    "\n",
    "    def activation_function(self, z):\n",
    "        return np.where(z>0, 1, 0)\n",
    "        \n",
    "    def fit(self, X, y):\n",
    "        self.X = X\n",
    "        self.y = y\n",
    "        \n",
    "        X_with_bias = np.c_[self.X, -np.ones((len(self.X), 1))]\n",
    "        print(\"X with bias= \", X_with_bias)\n",
    "\n",
    "        for epoch in range(self.epochs):\n",
    "            print(f\"---\"*10)\n",
    "            z = self._z_outcomes(X_with_bias, self.weights)\n",
    "            y_hat = self.activation_function(z)\n",
    "            print(\"Predicted value after the forward pass: \", y_hat)\n",
    "            \n",
    "            self.error = self.y -y_hat\n",
    "            print(\"Error at every step: \\n\", self.error)\n",
    "\n",
    "            self.weights = self.weights + self.eta * np.dot(X_with_bias.T, self.error)\n",
    "            print(\"Updated weights after epoch \", epoch, \": \",self.weights)\n",
    "\n",
    "            print(f\"---\"*10)\n",
    "            print(\"\\n\")\n",
    "\n",
    "    def predict(self, X):\n",
    "        X_with_bias = np.c_[X, -np.ones((len(X), 1))]\n",
    "        z = self._z_outcomes(X_with_bias, self.weights)\n",
    "        return self.activation_function(z)"
   ]
  },
  {
   "cell_type": "code",
   "execution_count": 3,
   "id": "06209a24-4cfc-47e1-ac20-0ff914d3fe69",
   "metadata": {},
   "outputs": [
    {
     "data": {
      "text/plain": [
       "array([[1., 1.],\n",
       "       [1., 1.],\n",
       "       [1., 1.],\n",
       "       [1., 1.]])"
      ]
     },
     "execution_count": 3,
     "metadata": {},
     "output_type": "execute_result"
    }
   ],
   "source": [
    "X = np.ones((4,2))\n",
    "X"
   ]
  },
  {
   "cell_type": "code",
   "execution_count": 4,
   "id": "07a1ac87-95b9-428a-9e81-754ea4a87508",
   "metadata": {},
   "outputs": [
    {
     "data": {
      "text/plain": [
       "array([[1.],\n",
       "       [1.],\n",
       "       [1.],\n",
       "       [1.]])"
      ]
     },
     "execution_count": 4,
     "metadata": {},
     "output_type": "execute_result"
    }
   ],
   "source": [
    "y = np.ones((4,1))\n",
    "y"
   ]
  },
  {
   "cell_type": "code",
   "execution_count": 5,
   "id": "54cea840-a761-4200-8d5b-d4c9f24071e3",
   "metadata": {},
   "outputs": [],
   "source": [
    "obj = Perceptron(eta=0.01, epochs=10) "
   ]
  },
  {
   "cell_type": "code",
   "execution_count": 6,
   "id": "64c884cf-1e18-4764-beca-5e9e413d9662",
   "metadata": {},
   "outputs": [
    {
     "data": {
      "text/html": [
       "<div>\n",
       "<style scoped>\n",
       "    .dataframe tbody tr th:only-of-type {\n",
       "        vertical-align: middle;\n",
       "    }\n",
       "\n",
       "    .dataframe tbody tr th {\n",
       "        vertical-align: top;\n",
       "    }\n",
       "\n",
       "    .dataframe thead th {\n",
       "        text-align: right;\n",
       "    }\n",
       "</style>\n",
       "<table border=\"1\" class=\"dataframe\">\n",
       "  <thead>\n",
       "    <tr style=\"text-align: right;\">\n",
       "      <th></th>\n",
       "      <th>x1</th>\n",
       "      <th>x2</th>\n",
       "      <th>y</th>\n",
       "    </tr>\n",
       "  </thead>\n",
       "  <tbody>\n",
       "    <tr>\n",
       "      <th>0</th>\n",
       "      <td>0</td>\n",
       "      <td>0</td>\n",
       "      <td>0</td>\n",
       "    </tr>\n",
       "    <tr>\n",
       "      <th>1</th>\n",
       "      <td>0</td>\n",
       "      <td>1</td>\n",
       "      <td>1</td>\n",
       "    </tr>\n",
       "    <tr>\n",
       "      <th>2</th>\n",
       "      <td>1</td>\n",
       "      <td>0</td>\n",
       "      <td>1</td>\n",
       "    </tr>\n",
       "    <tr>\n",
       "      <th>3</th>\n",
       "      <td>1</td>\n",
       "      <td>1</td>\n",
       "      <td>1</td>\n",
       "    </tr>\n",
       "  </tbody>\n",
       "</table>\n",
       "</div>"
      ],
      "text/plain": [
       "   x1  x2  y\n",
       "0   0   0  0\n",
       "1   0   1  1\n",
       "2   1   0  1\n",
       "3   1   1  1"
      ]
     },
     "execution_count": 6,
     "metadata": {},
     "output_type": "execute_result"
    }
   ],
   "source": [
    "OR = {\n",
    "    \"x1\": [0, 0, 1, 1],\n",
    "    \"x2\": [0, 1, 0, 1],\n",
    "    \"y\": [0, 1, 1, 1]\n",
    "}\n",
    "df_OR = pd.DataFrame(OR)\n",
    "df_OR"
   ]
  },
  {
   "cell_type": "code",
   "execution_count": 7,
   "id": "8784cff0-eddd-4079-9bf3-db62fededd05",
   "metadata": {},
   "outputs": [],
   "source": [
    "def prepare_data(df, target_col=\"y\"):\n",
    "    X = df.drop(target_col, axis=1)\n",
    "    y = df[target_col]\n",
    "    return X, y"
   ]
  },
  {
   "cell_type": "code",
   "execution_count": 8,
   "id": "48d34b5d-4bbe-4203-913f-0e74e0d09b94",
   "metadata": {},
   "outputs": [
    {
     "name": "stdout",
     "output_type": "stream",
     "text": [
      "X with bias=  [[ 0.  0. -1.]\n",
      " [ 0.  1. -1.]\n",
      " [ 1.  0. -1.]\n",
      " [ 1.  1. -1.]]\n",
      "------------------------------\n",
      "Predicted value after the forward pass:  [0 0 0 0]\n",
      "Error at every step: \n",
      " 0    0\n",
      "1    1\n",
      "2    1\n",
      "3    1\n",
      "Name: y, dtype: int64\n",
      "Updated weights after epoch  0 :  [ 0.19986249  0.19997518 -0.29996481]\n",
      "------------------------------\n",
      "\n",
      "\n",
      "------------------------------\n",
      "Predicted value after the forward pass:  [1 1 1 1]\n",
      "Error at every step: \n",
      " 0   -1\n",
      "1    0\n",
      "2    0\n",
      "3    0\n",
      "Name: y, dtype: int64\n",
      "Updated weights after epoch  1 :  [ 0.19986249  0.19997518 -0.19996481]\n",
      "------------------------------\n",
      "\n",
      "\n",
      "------------------------------\n",
      "Predicted value after the forward pass:  [1 1 1 1]\n",
      "Error at every step: \n",
      " 0   -1\n",
      "1    0\n",
      "2    0\n",
      "3    0\n",
      "Name: y, dtype: int64\n",
      "Updated weights after epoch  2 :  [ 0.19986249  0.19997518 -0.09996481]\n",
      "------------------------------\n",
      "\n",
      "\n",
      "------------------------------\n",
      "Predicted value after the forward pass:  [1 1 1 1]\n",
      "Error at every step: \n",
      " 0   -1\n",
      "1    0\n",
      "2    0\n",
      "3    0\n",
      "Name: y, dtype: int64\n",
      "Updated weights after epoch  3 :  [1.99862486e-01 1.99975181e-01 3.51875424e-05]\n",
      "------------------------------\n",
      "\n",
      "\n",
      "------------------------------\n",
      "Predicted value after the forward pass:  [0 1 1 1]\n",
      "Error at every step: \n",
      " 0    0\n",
      "1    0\n",
      "2    0\n",
      "3    0\n",
      "Name: y, dtype: int64\n",
      "Updated weights after epoch  4 :  [1.99862486e-01 1.99975181e-01 3.51875424e-05]\n",
      "------------------------------\n",
      "\n",
      "\n",
      "------------------------------\n",
      "Predicted value after the forward pass:  [0 1 1 1]\n",
      "Error at every step: \n",
      " 0    0\n",
      "1    0\n",
      "2    0\n",
      "3    0\n",
      "Name: y, dtype: int64\n",
      "Updated weights after epoch  5 :  [1.99862486e-01 1.99975181e-01 3.51875424e-05]\n",
      "------------------------------\n",
      "\n",
      "\n",
      "------------------------------\n",
      "Predicted value after the forward pass:  [0 1 1 1]\n",
      "Error at every step: \n",
      " 0    0\n",
      "1    0\n",
      "2    0\n",
      "3    0\n",
      "Name: y, dtype: int64\n",
      "Updated weights after epoch  6 :  [1.99862486e-01 1.99975181e-01 3.51875424e-05]\n",
      "------------------------------\n",
      "\n",
      "\n",
      "------------------------------\n",
      "Predicted value after the forward pass:  [0 1 1 1]\n",
      "Error at every step: \n",
      " 0    0\n",
      "1    0\n",
      "2    0\n",
      "3    0\n",
      "Name: y, dtype: int64\n",
      "Updated weights after epoch  7 :  [1.99862486e-01 1.99975181e-01 3.51875424e-05]\n",
      "------------------------------\n",
      "\n",
      "\n",
      "------------------------------\n",
      "Predicted value after the forward pass:  [0 1 1 1]\n",
      "Error at every step: \n",
      " 0    0\n",
      "1    0\n",
      "2    0\n",
      "3    0\n",
      "Name: y, dtype: int64\n",
      "Updated weights after epoch  8 :  [1.99862486e-01 1.99975181e-01 3.51875424e-05]\n",
      "------------------------------\n",
      "\n",
      "\n",
      "------------------------------\n",
      "Predicted value after the forward pass:  [0 1 1 1]\n",
      "Error at every step: \n",
      " 0    0\n",
      "1    0\n",
      "2    0\n",
      "3    0\n",
      "Name: y, dtype: int64\n",
      "Updated weights after epoch  9 :  [1.99862486e-01 1.99975181e-01 3.51875424e-05]\n",
      "------------------------------\n",
      "\n",
      "\n"
     ]
    }
   ],
   "source": [
    "X, y = prepare_data(df_OR)\n",
    "\n",
    "ETA = 0.1\n",
    "EPOCHS = 10\n",
    "\n",
    "model_or = Perceptron(ETA, EPOCHS)\n",
    "\n",
    "model_or.fit(X, y)"
   ]
  },
  {
   "cell_type": "code",
   "execution_count": 9,
   "id": "664e3919-2ed8-4f81-b434-e40e90a77ffc",
   "metadata": {},
   "outputs": [
    {
     "data": {
      "text/plain": [
       "array([0, 1, 1, 1])"
      ]
     },
     "execution_count": 9,
     "metadata": {},
     "output_type": "execute_result"
    }
   ],
   "source": [
    "\n",
    "model_or.predict(X)"
   ]
  },
  {
   "cell_type": "code",
   "execution_count": null,
   "id": "f6627cdf-4a31-4664-bab4-277f3c4dad14",
   "metadata": {},
   "outputs": [],
   "source": [
    " "
   ]
  },
  {
   "cell_type": "code",
   "execution_count": null,
   "id": "4815f5fc-dda8-48bd-b224-bdba98d75d63",
   "metadata": {},
   "outputs": [],
   "source": []
  }
 ],
 "metadata": {
  "kernelspec": {
   "display_name": "Python 3 (ipykernel)",
   "language": "python",
   "name": "python3"
  },
  "language_info": {
   "codemirror_mode": {
    "name": "ipython",
    "version": 3
   },
   "file_extension": ".py",
   "mimetype": "text/x-python",
   "name": "python",
   "nbconvert_exporter": "python",
   "pygments_lexer": "ipython3",
   "version": "3.11.5"
  }
 },
 "nbformat": 4,
 "nbformat_minor": 5
}
